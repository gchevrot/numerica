{
 "cells": [
  {
   "cell_type": "markdown",
   "metadata": {
    "slideshow": {
     "slide_type": "slide"
    }
   },
   "source": [
    "![](Images/premiere_page.png)"
   ]
  },
  {
   "cell_type": "markdown",
   "metadata": {
    "slideshow": {
     "slide_type": "slide"
    }
   },
   "source": [
    "![](Images/logo_numerica.png)\n",
    "![](Images/python-logo-master-v3-TM.png)\n",
    "\n",
    "\n",
    "\n",
    "\n",
    "Introduction\n",
    "======================"
   ]
  },
  {
   "cell_type": "markdown",
   "metadata": {
    "slideshow": {
     "slide_type": "slide"
    }
   },
   "source": [
    "![](Images/header.png)\n",
    "\n",
    "\n",
    "#### Philosophie du langage Python\n",
    "\n",
    "   - langage intuitif et facile à apprendre\n",
    "    \n",
    "   - open source, tout le monde peut contribuer à son développement\n",
    "    \n",
    "   - code lisible qui facilite la lecture et la compréhension\n",
    "    \n",
    "   - approprié pour la plupart des tâches infomatiques tout en permettant un développement rapide\n",
    "\n",
    "\n",
    "   - *\"Je voulais que Python soit un peu différent des autres, et montrer qu’il n’y a rien de mal à être différent.  A l’époque, la clarté n’était pas au cœur de la philosophie des langages ...\"*\n",
    "\n",
    "   - *\"Dans la philosophie de Python, le temps d’exécution n’est pas aussi important que le temps nécessaire à l’écriture du code\"*\n",
    "\n",
    "\n",
    "__Guido van Rossum__ - *Le Monde, 25.07.2018*\n",
    "\n",
    "\n",
    "![image alt <](Images/footer.png)"
   ]
  }
 ],
 "metadata": {
  "anaconda-cloud": {},
  "celltoolbar": "Slideshow",
  "kernelspec": {
   "display_name": "Python 3",
   "language": "python",
   "name": "python3"
  },
  "language_info": {
   "codemirror_mode": {
    "name": "ipython",
    "version": 3
   },
   "file_extension": ".py",
   "mimetype": "text/x-python",
   "name": "python",
   "nbconvert_exporter": "python",
   "pygments_lexer": "ipython3",
   "version": "3.7.2"
  },
  "livereveal": {
   "autolaunch": false,
   "scroll": true
  },
  "widgets": {
   "state": {},
   "version": "2.0.10"
  }
 },
 "nbformat": 4,
 "nbformat_minor": 1
}
